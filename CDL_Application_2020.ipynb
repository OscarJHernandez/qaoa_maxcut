{
 "cells": [
  {
   "cell_type": "code",
   "execution_count": 17,
   "metadata": {},
   "outputs": [
    {
     "data": {
      "text/plain": [
       "'\\nAuthor: Oscar Javier Hernandez\\n\\nQAOA problem solution using qiskit\\n'"
      ]
     },
     "execution_count": 17,
     "metadata": {},
     "output_type": "execute_result"
    }
   ],
   "source": [
    "'''\n",
    "Author: Oscar Javier Hernandez\n",
    "\n",
    "QAOA problem solution using qiskit\n",
    "'''"
   ]
  },
  {
   "cell_type": "code",
   "execution_count": 1,
   "metadata": {},
   "outputs": [],
   "source": [
    "import qiskit\n",
    "from qiskit.visualization import plot_histogram\n",
    "import numpy as np\n",
    "import matplotlib.pyplot as plt\n",
    "import networkx as nx"
   ]
  },
  {
   "cell_type": "markdown",
   "metadata": {},
   "source": [
    "# Problem: Maxcut using QAOA\n",
    "\n",
    "Given a graph $G=(V,E)$ we label the vertices $x_i \\in \\lbrace -1,1\\rbrace $ and define the cost function\n",
    "\n",
    "\\begin{align}\n",
    "C(x) &= \\frac{1}{2}\\sum_{(i,j) \\in E} w_{i,j}(1-x_i x_j).\n",
    "\\end{align}\n",
    "\n",
    "The max-cut of $G$ is defined as the set of labels $x_i$ that maximize $C(x)$."
   ]
  },
  {
   "cell_type": "code",
   "execution_count": 10,
   "metadata": {},
   "outputs": [
    {
     "data": {
      "image/png": "[encoded data removed]",
      "text/plain": [
       "<Figure size 432x288 with 1 Axes>"
      ]
     },
     "metadata": {},
     "output_type": "display_data"
    }
   ],
   "source": [
    "# Let us initialize a random graph G, with random connections\n",
    "n_random = 3\n",
    "\n",
    "\n",
    "# The total number of Nodes\n",
    "n=12\n",
    "G=nx.Graph()\n",
    "G.add_nodes_from(range(0,n))\n",
    "\n",
    "elist =[]\n",
    "for k in range(0,n):\n",
    "    n1,n2,w12 = (k,(k+1)%n,1.0)\n",
    "    \n",
    "    if(n1!=n2):\n",
    "        elist.append((n1,n2,1.0))\n",
    "G.add_weighted_edges_from(elist)\n",
    "\n",
    "\n",
    "# Add custom edges\n",
    "for k in range(0,n_random):\n",
    "    n1,n2 = np.random.randint(0,n),np.random.randint(0,n)\n",
    "    if(n1!=n2):\n",
    "        G.add_edge(n1,n2,weight=1.0)\n",
    "\n",
    "colors = ['b' for node in G.nodes()]\n",
    "pos = nx.spring_layout(G)\n",
    "default_axes = plt.axes(frameon=True)\n",
    "nx.draw_networkx(G, node_color=colors, node_size=600, alpha=.8, ax=default_axes, pos=pos)"
   ]
  },
  {
   "cell_type": "markdown",
   "metadata": {},
   "source": [
    "# Quantum Solution: QAOA\n",
    "\n",
    "\n",
    "The cost function $C(x)$ that we determined earlier can be optimized using QAOA. First, we map the cost function to a Hamiltonian, denoted $H_c$, consisting of Pauli-$Z$ operators (assuming that we have the case that $w_{ij}=1$)\n",
    "\n",
    "\\begin{align}\n",
    "H_c = \\frac{1}{2}\\sum_{(n,m) \\in E} (1-Z_n \\otimes Z_m).\n",
    "\\end{align}\n",
    "\n",
    "\n",
    "The algorithm consists of two steps. First, we prepare the QAOA state \n",
    "\n",
    "\\begin{align}\n",
    "\\left| \\gamma \\beta \\right> &= \\prod_{q=1}^p e^{-i \\beta_q B} e^{-i \\gamma_q H_c} \\left(H \\otimes \\cdots \\otimes H \\right) \\left( |0\\rangle \\otimes \\cdots \\otimes |0\\rangle \\right),\n",
    "\\end{align}\n",
    "where we have the mixing operator $B$ defined as \n",
    "\\begin{align}\n",
    "B &= \\sum_k X_k.\n",
    "\\end{align}\n",
    "\n",
    "\n",
    "After this state is constructed, we compute the expectation value of this state on the Hamiltonian of interest,\n",
    "\n",
    "\\begin{align}\n",
    "F(\\gamma,\\beta) = \\langle \\gamma \\beta|H_c|\\gamma \\beta \\rangle.\n",
    "\\end{align}\n",
    "\n",
    "This function is optimized using traditional methods and the optimal parameters $\\gamma^*,\\beta^*$ are stored. With these parameters known, we then measure the state $|\\gamma^* \\beta^* \\rangle$ in the computational basis.   \n",
    "\n",
    "\n",
    "\n"
   ]
  },
  {
   "cell_type": "markdown",
   "metadata": {},
   "source": [
    "# Gate Implementation of Operators\n",
    "\n",
    "In this section, I will outline the implementation of the operators used for the QAOA.\n",
    "\n",
    "\n",
    "## Implementation of $e^{-\\beta X}$\n",
    "\n",
    "This operator is implemented trivially in Quiskit using the rotation matrices. In particular, we use\n",
    "\n",
    "\\begin{align}\n",
    "e^{-i\\beta X} = R_x(2\\beta)\n",
    "\\end{align}\n",
    "\n",
    "\n",
    "## Implementation of $e^{-i\\gamma \\frac{1}{2}(1-Z_n \\otimes Z_m)}$\n",
    "\n",
    "This operator is not natively implemented in Qiskit. Therefore we must implement it ourselves. First, we note that the matrix representation of the two-qubit $ZZ$ gate is \n",
    "\n",
    "\\begin{align}\n",
    "Z_n \\otimes Z_m = \n",
    "\\begin{bmatrix}\n",
    "1 & 0 & 0 & 0 \\\\\n",
    "0 & -1 & 0 & 0 \\\\\n",
    "0 & 0 & -1 & 0 \\\\\n",
    "0 & 0 & 0 & 1 \n",
    "\\end{bmatrix}.\n",
    "\\end{align}\n",
    "\n",
    "Our task in this section is to exponentiate this matrix. \n",
    "\n",
    "\\begin{align}\n",
    "e^{-i\\gamma \\frac{1}{2}(1-Z_n \\otimes Z_m)} = e^{-i\\gamma \\frac{1}{2}} \\cdot e^{i \\frac{1}{2}\\gamma Z_n \\otimes Z_m}\n",
    "\\\\\n",
    "= e^{-i\\gamma \\frac{1}{2}}e^{i\\gamma \\frac{1}{2}} \\cdot \\begin{bmatrix}\n",
    "1 & 0 & 0 & 0 \\\\\n",
    "0 & e^{-i \\gamma } & 0 & 0 \\\\\n",
    "0 & 0 & e^{-i \\gamma } & 0 \\\\\n",
    "0 & 0 & 0 & 1\n",
    "\\end{bmatrix}\\\\\n",
    "= \\begin{bmatrix}\n",
    "1 & 0 & 0 & 0 \\\\\n",
    "0 & e^{-i \\gamma } & 0 & 0 \\\\\n",
    "0 & 0 & e^{-i \\gamma } & 0 \\\\\n",
    "0 & 0 & 0 & 1\n",
    "\\end{bmatrix}\n",
    "\\end{align}\n",
    "\n",
    "\n",
    "Therefore we have that\n",
    "\n",
    "\\begin{align}\n",
    "e^{-i\\gamma \\frac{1}{2}(1-Z_n \\otimes Z_m)} =  \\begin{bmatrix}\n",
    "1 & 0 & 0 & 0 \\\\\n",
    "0 & e^{-i \\gamma } & 0 & 0 \\\\\n",
    "0 & 0 & e^{-i \\gamma } & 0 \\\\\n",
    "0 & 0 & 0 & 1\n",
    "\\end{bmatrix}\n",
    "\\end{align}\n",
    "\n",
    "\n",
    "This operator can be implemented very simply as follows. First, we note that\n",
    "\n",
    "\\begin{align}\n",
    "U_1(\\lambda) \\otimes U_1(\\lambda) = \n",
    "\\begin{bmatrix}\n",
    "1 & 0 & 0 & 0 \\\\\n",
    "0 & e^{i\\lambda } & 0 & 0 \\\\\n",
    "0 & 0 & e^{i \\lambda } & 0 \\\\\n",
    "0 & 0 & 0 & e^{i 2\\lambda }\n",
    "\\end{bmatrix}\n",
    "\\end{align}\n",
    "\n",
    "and therefore, if we combine this with a controlled $U1$-gate we have\n",
    "\n",
    "\\begin{align}\n",
    "CU_1(\\alpha) \\left( U_1(\\lambda) \\otimes U_1(\\lambda) \\right) = \\begin{bmatrix}\n",
    "1 & 0 & 0 & 0 \\\\\n",
    "0 & e^{i\\lambda } & 0 & 0 \\\\\n",
    "0 & 0 & e^{i \\lambda } & 0 \\\\\n",
    "0 & 0 & 0 & e^{i \\left(2\\lambda +\\alpha\\right) }.\n",
    "\\end{bmatrix}\n",
    "\\end{align}\n",
    "\n",
    "Using these results, we have\n",
    "\n",
    "\\begin{align}\n",
    "e^{-i\\gamma \\frac{1}{2}(1-Z_n \\otimes Z_m)} = CU_1(2\\gamma) \\left( U_1(-\\gamma) \\otimes U_1(-\\gamma) \\right).\n",
    "\\end{align}\n",
    "\n"
   ]
  },
  {
   "cell_type": "code",
   "execution_count": 11,
   "metadata": {},
   "outputs": [],
   "source": [
    "'''\n",
    "Here we implement all of the necessary functions that will be required to carry out the QAOA solution\n",
    "'''\n",
    "\n",
    "def produce_QAOA_state(gammas,betas,p=1):\n",
    "    '''\n",
    "    This function generates the QAOA state |gamma, beta>\n",
    "    for a given order, p.\n",
    "    \n",
    "    '''\n",
    "\n",
    "    # Create a Quantum Circuit acting on the q register\n",
    "    circuit = qiskit.QuantumCircuit(n, n)\n",
    "\n",
    "    # Prepare the state |alpha,beta>\n",
    "\n",
    "    # We apply Hadamard to all of the qubits\n",
    "    circuit.h(range(0,n))\n",
    "    circuit.barrier()\n",
    "\n",
    "    ##======================================\n",
    "    # Prepare the QAOA-Trial State\n",
    "    for pk in range(p):\n",
    "        \n",
    "        \n",
    "        for edge in G.edges():\n",
    "            k,l = edge[0],edge[1]\n",
    "            \n",
    "            # U(gamma)\n",
    "            # control bit to the target bit\n",
    "            circuit.u1(gammas[pk], k)\n",
    "            circuit.u1(gammas[pk], l)\n",
    "            circuit.cu1(-2*gammas[pk], k, l)\n",
    "            circuit.barrier()\n",
    "        \n",
    "        # U(beta)\n",
    "        circuit.rx(2*betas[pk], range(n))\n",
    "        circuit.barrier()\n",
    "    #=========================================\n",
    "    circuit.measure(range(n),range(n))\n",
    "    \n",
    "    return circuit\n",
    "\n",
    "def linear_transform(x):\n",
    "    '''\n",
    "    This function is used to simplify some calculations.\n",
    "    \n",
    "    x: Bitstring consisting of  {0 or 1} values\n",
    "    \n",
    "    \n",
    "    mapping: 2*x-1\n",
    "    \n",
    "    returns:\n",
    "    x_prime: numpy array with entries that are -1 or 1\n",
    "    '''\n",
    "    \n",
    "    N=len(x)\n",
    "    x_prime = np.zeros(N)\n",
    "    \n",
    "    \n",
    "    for k in range(N):\n",
    "        x_prime[k] = 2*int(x[k])-1\n",
    "    \n",
    "    return x_prime\n",
    "\n",
    "\n",
    "def compute_cost(x,G):\n",
    "    '''\n",
    "    The cost of a bitstring x using the max-cut \n",
    "    cost function\n",
    "    \n",
    "    C = sum_{i,j} 1/2*(1-xi*xj)\n",
    "    \n",
    "    where xi,xj are either -1 or 1\n",
    "    \n",
    "    G: Graph object\n",
    "    x: bitstring consisting of characters that are either 0 or 1.\n",
    "    '''\n",
    "    x_prime = linear_transform(x)\n",
    "    \n",
    "    c=0.0\n",
    "    \n",
    "    for edge in G.edges():\n",
    "        k,l = edge[0],edge[1]\n",
    "        c+= 0.5*(1.0-x_prime[k]*x_prime[l])\n",
    "    \n",
    "    return c\n",
    "\n",
    "\n",
    "\n",
    "def expectation_value(gammas,betas,G,p,N_shots=100):\n",
    "    '''\n",
    "    Compute the expectation value of the Cost-Hamiltonian \n",
    "    \n",
    "    H_c = 1/2 sum (1-Z_n Z_m)\n",
    "    \n",
    "    \n",
    "    on the QAOA basis state |gamma,beta>\n",
    "    \n",
    "    F(gammas,betas) = <gammas betas|H_c|gammas betas>\n",
    "    \n",
    "    \n",
    "    '''\n",
    "    ev=0.0\n",
    "    \n",
    "    # Produce the backend\n",
    "    backend = qiskit.Aer.get_backend(\"qasm_simulator\")\n",
    "    \n",
    "    circuit = produce_QAOA_state(gammas,betas,p)\n",
    "    simulate = qiskit.execute(circuit, backend=backend, shots=N_shots)\n",
    "    \n",
    "    results = simulate.result()\n",
    "    counts = results.get_counts()\n",
    "    \n",
    "    for x in counts:\n",
    "        ev += compute_cost(x,G)*(counts[x]/N_shots)\n",
    "    \n",
    "    \n",
    "    return ev"
   ]
  },
  {
   "cell_type": "markdown",
   "metadata": {},
   "source": [
    "# Optimize the Expectation value $F=\\langle \\gamma \\beta| H_c|\\gamma \\beta\\rangle$\n",
    "\n",
    "Below, we optimize the expectation value of the $H_c$ using the QAOA trial wavefunction."
   ]
  },
  {
   "cell_type": "code",
   "execution_count": 12,
   "metadata": {},
   "outputs": [
    {
     "name": "stdout",
     "output_type": "stream",
     "text": [
      "====================================================================================================\n",
      "QAOA order:  2\n",
      "Solution:  [2.66476723 5.4382458  0.36908331 0.23216681]\n",
      "====================================================================================================\n"
     ]
    }
   ],
   "source": [
    "from scipy.optimize import minimize\n",
    "\n",
    "\n",
    "\n",
    "#=========================================================================================\n",
    "# Important, this is the chosen order for the QAOA optimization\n",
    "p = 2\n",
    "N_shots = 10000 # Number of shots to compute the expectation value\n",
    "#=========================================================================================\n",
    "\n",
    "\n",
    "def function(z):\n",
    "    '''\n",
    "    The expectation value function for the scipy \n",
    "    optimizer to optimize\n",
    "    '''\n",
    "    \n",
    "    N = len(z)\n",
    "    gammas = z[0:int(N/2)]\n",
    "    betas = z[ int(N/2):N]\n",
    "    \n",
    "    f=-expectation_value(gammas,betas,G,p=int(N/2),N_shots=1000)\n",
    "    \n",
    "    return f\n",
    "\n",
    "# initialize the set of gammas and betas\n",
    "gammas = 2.0*np.pi*np.random.uniform(0,1,p)\n",
    "betas = np.pi*np.random.uniform(0,1,p)\n",
    "\n",
    "\n",
    "# Minimize the Objective function using the Nelder-Mead algorithm\n",
    "z0 = np.concatenate((gammas,betas))\n",
    "res = minimize(function, z0, method='nelder-mead',\n",
    "               options={'xatol': 1e-2, 'disp': False})\n",
    "\n",
    "print('='*100)\n",
    "print('QAOA order: ',p)\n",
    "print('Solution: ', res.x)\n",
    "print('='*100)"
   ]
  },
  {
   "cell_type": "markdown",
   "metadata": {},
   "source": [
    "# Having found the optimal values of $\\gamma$ and $\\beta$, we use these values and compute the expectation of the wavefunction "
   ]
  },
  {
   "cell_type": "code",
   "execution_count": 13,
   "metadata": {},
   "outputs": [
    {
     "name": "stdout",
     "output_type": "stream",
     "text": [
      "Maximum observed energy:  14.0\n"
     ]
    },
    {
     "data": {
      "image/png": "[encoded data removed]",
      "text/plain": [
       "<Figure size 1080x864 with 1 Axes>"
      ]
     },
     "execution_count": 13,
     "metadata": {},
     "output_type": "execute_result"
    }
   ],
   "source": [
    "# The number of shots to sampe the QAOA wavefunction\n",
    "N_shots  = 100000\n",
    "\n",
    "\n",
    "# Extract the optimal parameters for the gamma and beta parameters\n",
    "gammas_max = res.x[0:p] \n",
    "betas_max = res.x[p:2*p]\n",
    "\n",
    "# retrieve the backend simulator\n",
    "backend = qiskit.Aer.get_backend(\"qasm_simulator\")\n",
    "\n",
    "# Produce the QAOA states and sample the state in the computational basis\n",
    "circuit = produce_QAOA_state(gammas_max,betas_max,p=p)\n",
    "simulate = qiskit.execute(circuit, backend=backend, shots=N_shots)\n",
    "\n",
    "# retrieve the results from the QAOA\n",
    "QAOA_results = simulate.result()\n",
    "counts = QAOA_results.get_counts()\n",
    "\n",
    "# convert the observed bit-strings into \n",
    "x_observed = list(counts.keys())\n",
    "\n",
    "\n",
    "#=============================================================\n",
    "# Compute the observed energies and keep record of the best solutions\n",
    "energy_distribution = []\n",
    "\n",
    "for x in counts:\n",
    "    energy_distribution.append(compute_cost(x,G))\n",
    "\n",
    "# Get the maximum observed energy\n",
    "max_energy = max(energy_distribution)\n",
    "\n",
    "print('Maximum observed energy: ', max_energy)\n",
    "\n",
    "max_energy_distributions = []\n",
    "\n",
    "for k in range(len(counts)):\n",
    "    Ek = energy_distribution[k]\n",
    "    \n",
    "    if(Ek==max_energy):\n",
    "        max_energy_distributions.append(x_observed[k])\n",
    "\n",
    "#=============================================================\n",
    "    \n",
    "\n",
    "\n",
    "# The bitstrings corresponding to the maximium amplitudes\n",
    "plot_histogram(QAOA_results.get_counts(),\n",
    "               title='Observed states',\n",
    "              figsize=(15,12),\n",
    "              bar_labels=False)\n"
   ]
  },
  {
   "cell_type": "markdown",
   "metadata": {},
   "source": [
    "# Plot the Observed Energy Distribution From QAOA state"
   ]
  },
  {
   "cell_type": "code",
   "execution_count": 14,
   "metadata": {},
   "outputs": [
    {
     "name": "stdout",
     "output_type": "stream",
     "text": [
      "quantum algorithm:  ['101010101010', '010101010101']\n"
     ]
    },
    {
     "data": {
      "image/png": "[encoded data removed]",
      "text/plain": [
       "<Figure size 432x288 with 1 Axes>"
      ]
     },
     "metadata": {
      "needs_background": "light"
     },
     "output_type": "display_data"
    }
   ],
   "source": [
    "print('quantum algorithm: ', max_energy_distributions)\n",
    "\n",
    "plt.title('Distribution of observed Energies',size=15)\n",
    "plt.xlabel('Energy', size=15)\n",
    "plt.hist(energy_distribution,density=True)\n",
    "plt.show()"
   ]
  },
  {
   "cell_type": "markdown",
   "metadata": {},
   "source": [
    "# Plot the solutions of the Maxcut problem\n",
    "\n",
    "In the following cell, we make a plot of all of the solutions of the maxcut problem found by the QAOA sampler."
   ]
  },
  {
   "cell_type": "code",
   "execution_count": 15,
   "metadata": {},
   "outputs": [
    {
     "name": "stdout",
     "output_type": "stream",
     "text": [
      "****************************************************************************************************\n",
      "The following are the solutions to the maxcut problem\n",
      "****************************************************************************************************\n"
     ]
    },
    {
     "data": {
      "image/png": "[encoded data removed]",
      "text/plain": [
       "<Figure size 432x288 with 1 Axes>"
      ]
     },
     "metadata": {},
     "output_type": "display_data"
    },
    {
     "data": {
      "image/png": "[encoded data removed]",
      "text/plain": [
       "<Figure size 432x288 with 1 Axes>"
      ]
     },
     "metadata": {},
     "output_type": "display_data"
    }
   ],
   "source": [
    "def return_colors(x):\n",
    "    '''\n",
    "    Function used to map the bit string to unique colors for\n",
    "    visualization\n",
    "    '''\n",
    "    \n",
    "    colors = []\n",
    "    \n",
    "    for k in range(len(x)):\n",
    "        \n",
    "        c = x[k]\n",
    "        \n",
    "        if(c=='1'):\n",
    "            colors.append('b')\n",
    "        elif(c=='0'):\n",
    "            colors.append('r')\n",
    "    \n",
    "    return colors\n",
    "\n",
    "\n",
    "print('*'*100)\n",
    "print('The following are the solutions to the maxcut problem')\n",
    "print('*'*100)\n",
    "\n",
    "# Plot all of the solutions to the maxcut problem\n",
    "for k in range(len(max_energy_distributions)):\n",
    "    colors = return_colors(max_energy_distributions[k])\n",
    "    pos = nx.spring_layout(G)\n",
    "    default_axes = plt.axes(frameon=True)\n",
    "    nx.draw_networkx(G, node_color=colors, node_size=600, alpha=.8, ax=default_axes, pos=pos)\n",
    "    plt.show()"
   ]
  },
  {
   "cell_type": "markdown",
   "metadata": {},
   "source": [
    "# We will Compute the Optimal Maxcut using brute force methods"
   ]
  },
  {
   "cell_type": "code",
   "execution_count": 16,
   "metadata": {
    "scrolled": true
   },
   "outputs": [
    {
     "name": "stdout",
     "output_type": "stream",
     "text": [
      "====================================================================================================\n",
      "Maximum Energy:  14.0 \n",
      "\n",
      "Brute force solutions: 2 \n",
      " ['010101010101', '101010101010'] \n",
      "\n",
      "QAOA solutions: 2 \n",
      " ['101010101010', '010101010101']\n",
      "====================================================================================================\n",
      "****************************************************************************************************\n",
      "The QAOA solutions and the brute-force methods match. All optimal solutions found!\n",
      "****************************************************************************************************\n"
     ]
    }
   ],
   "source": [
    "import itertools\n",
    "\n",
    "perms= [\"\".join(seq) for seq in itertools.product(\"01\", repeat=n)]\n",
    "\n",
    "scores = []\n",
    "\n",
    "for xk in perms:\n",
    "    Ek = compute_cost(xk,G)\n",
    "    scores.append(Ek)\n",
    "\n",
    "# Determine the maximum score\n",
    "max_E = np.max(scores)\n",
    "\n",
    "max_strings = []\n",
    "\n",
    "# Find all energies where this is maximum and store the results\n",
    "for k in range(len(scores)):\n",
    "    \n",
    "    score_k = scores[k]\n",
    "    xk = perms[k]\n",
    "    \n",
    "    if(score_k==max_E):\n",
    "        max_strings.append(xk)\n",
    "\n",
    "print('='*100)\n",
    "print('Maximum Energy: ', max_E,'\\n')\n",
    "print('Brute force solutions: {} \\n'.format(len(max_strings)),max_strings,'\\n')\n",
    "print('QAOA solutions: {} \\n'.format(len(max_energy_distributions)), max_energy_distributions)\n",
    "print('='*100)\n",
    "\n",
    "\n",
    "# Now we check that all of the solutions match, from the QAOA and from the brute force\n",
    "\n",
    "count = 1\n",
    "wrong_solutions =0\n",
    "for s in max_energy_distributions:\n",
    "    \n",
    "    if(s in max_strings):\n",
    "        count+=1\n",
    "    else:\n",
    "        wrong_solutions+=1\n",
    "\n",
    "\n",
    "if(count-1 == len(max_strings)):\n",
    "    print('*'*100)\n",
    "    print('The QAOA solutions and the brute-force methods match. All optimal solutions found!')\n",
    "    print('*'*100)\n",
    "else:\n",
    "    print('*'*100)\n",
    "    print('The QAOA algorithm is missing {} solutions.'.format(len(max_strings)-count))\n",
    "    print('The number of incorrect solutions is: {}'.format(wrong_solutions))\n",
    "    print('*'*100)"
   ]
  }
 ],
 "metadata": {
  "kernelspec": {
   "display_name": "Python 3",
   "language": "python",
   "name": "python3"
  },
  "language_info": {
   "codemirror_mode": {
    "name": "ipython",
    "version": 3
   },
   "file_extension": ".py",
   "mimetype": "text/x-python",
   "name": "python",
   "nbconvert_exporter": "python",
   "pygments_lexer": "ipython3",
   "version": "3.7.6"
  }
 },
 "nbformat": 4,
 "nbformat_minor": 4
}
